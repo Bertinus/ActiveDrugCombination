{
 "cells": [
  {
   "cell_type": "code",
   "execution_count": 70,
   "metadata": {},
   "outputs": [],
   "source": [
    "experiment_name = \"test\"\n",
    "exp_id = 7"
   ]
  },
  {
   "cell_type": "code",
   "execution_count": 71,
   "metadata": {},
   "outputs": [],
   "source": [
    "import pandas as pd\n",
    "import os\n",
    "import numpy as np\n",
    "import dill as pickle\n",
    "import matplotlib.pyplot as plt"
   ]
  },
  {
   "cell_type": "code",
   "execution_count": 72,
   "metadata": {},
   "outputs": [],
   "source": [
    "def load_all_losses(res, name='recon_loss'):\n",
    "    all_train_loss = []\n",
    "    for epoch in range(len(res['losses']['train'])):\n",
    "        train_loss = res['losses']['train'][epoch]\n",
    "        all_train_loss.append(train_loss)\n",
    "    all_valid_loss = []\n",
    "    for epoch in range(len(res['losses']['valid'])):\n",
    "        valid_loss = res['losses']['valid'][epoch]\n",
    "        all_valid_loss.append(valid_loss)\n",
    "    return all_train_loss, all_valid_loss"
   ]
  },
  {
   "cell_type": "code",
   "execution_count": 73,
   "metadata": {},
   "outputs": [],
   "source": [
    "result_dir = os.path.join(os.getcwd(), \"../results\", experiment_name)\n",
    "\n",
    "with open(os.path.join(result_dir,'results_' \n",
    "          + str(exp_id) + '.pkl'), 'rb') as f:\n",
    "    results = pickle.load(f)"
   ]
  },
  {
   "cell_type": "code",
   "execution_count": 74,
   "metadata": {},
   "outputs": [
    {
     "data": {
      "text/plain": [
       "{'cuda': True,\n",
       " 'seed': 1,\n",
       " 'optimizer': {'Adam': {'lr': 0.05}},\n",
       " 'batch_size': 32,\n",
       " 'n_epochs': 3000,\n",
       " 'exp_id': 7,\n",
       " 'experiment_name': 'test',\n",
       " 'model': {'GCN': {'num_node_features': 1026}}}"
      ]
     },
     "execution_count": 74,
     "metadata": {},
     "output_type": "execute_result"
    }
   ],
   "source": [
    "results['config']"
   ]
  },
  {
   "cell_type": "code",
   "execution_count": 75,
   "metadata": {},
   "outputs": [],
   "source": [
    "train_losses, val_losses = load_all_losses(results)"
   ]
  },
  {
   "cell_type": "code",
   "execution_count": 76,
   "metadata": {},
   "outputs": [
    {
     "data": {
      "image/png": "[encoded data removed]",
      "text/plain": [
       "<Figure size 432x288 with 1 Axes>"
      ]
     },
     "metadata": {
      "needs_background": "light"
     },
     "output_type": "display_data"
    }
   ],
   "source": [
    "plt.plot(train_losses, label=\"train\")\n",
    "plt.plot(val_losses, label=\"valid\")\n",
    "plt.legend()\n",
    "plt.title(\"Losses along training\")\n",
    "plt.show()"
   ]
  },
  {
   "cell_type": "code",
   "execution_count": null,
   "metadata": {},
   "outputs": [],
   "source": []
  }
 ],
 "metadata": {
  "kernelspec": {
   "display_name": "Python 3",
   "language": "python",
   "name": "python3"
  },
  "language_info": {
   "codemirror_mode": {
    "name": "ipython",
    "version": 3
   },
   "file_extension": ".py",
   "mimetype": "text/x-python",
   "name": "python",
   "nbconvert_exporter": "python",
   "pygments_lexer": "ipython3",
   "version": "3.8.3"
  }
 },
 "nbformat": 4,
 "nbformat_minor": 4
}
